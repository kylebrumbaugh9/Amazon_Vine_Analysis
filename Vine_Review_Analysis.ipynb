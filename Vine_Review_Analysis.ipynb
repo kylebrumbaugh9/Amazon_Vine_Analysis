{
  "nbformat": 4,
  "nbformat_minor": 0,
  "metadata": {
    "colab": {
      "provenance": []
    },
    "kernelspec": {
      "name": "python3",
      "display_name": "Python 3"
    },
    "language_info": {
      "name": "python"
    }
  },
  "cells": [
    {
      "cell_type": "code",
      "execution_count": null,
      "metadata": {
        "colab": {
          "base_uri": "https://localhost:8080/"
        },
        "id": "M466gRwsQz10",
        "outputId": "4ce8d8ce-39f4-42b0-c969-343acd8e35da"
      },
      "outputs": [
        {
          "output_type": "stream",
          "name": "stdout",
          "text": [
            "Get:1 https://cloud.r-project.org/bin/linux/ubuntu focal-cran40/ InRelease [3,622 B]\n",
            "Ign:2 https://developer.download.nvidia.com/compute/machine-learning/repos/ubuntu2004/x86_64  InRelease\n",
            "Hit:3 https://developer.download.nvidia.com/compute/cuda/repos/ubuntu2004/x86_64  InRelease\n",
            "Get:4 http://ppa.launchpad.net/c2d4u.team/c2d4u4.0+/ubuntu focal InRelease [18.1 kB]\n",
            "Hit:5 https://developer.download.nvidia.com/compute/machine-learning/repos/ubuntu2004/x86_64  Release\n",
            "Get:6 http://security.ubuntu.com/ubuntu focal-security InRelease [114 kB]\n",
            "Get:7 https://cloud.r-project.org/bin/linux/ubuntu focal-cran40/ Packages [71.6 kB]\n",
            "Hit:8 http://archive.ubuntu.com/ubuntu focal InRelease\n",
            "Get:9 http://archive.ubuntu.com/ubuntu focal-updates InRelease [114 kB]\n",
            "Hit:11 http://ppa.launchpad.net/cran/libgit2/ubuntu focal InRelease\n",
            "Hit:12 http://ppa.launchpad.net/deadsnakes/ppa/ubuntu focal InRelease\n",
            "Get:13 http://archive.ubuntu.com/ubuntu focal-backports InRelease [108 kB]\n",
            "Hit:14 http://ppa.launchpad.net/graphics-drivers/ppa/ubuntu focal InRelease\n",
            "Get:15 http://security.ubuntu.com/ubuntu focal-security/universe amd64 Packages [998 kB]\n",
            "Get:16 http://archive.ubuntu.com/ubuntu focal-updates/main amd64 Packages [2,970 kB]\n",
            "Hit:17 http://ppa.launchpad.net/ubuntugis/ppa/ubuntu focal InRelease\n",
            "Get:18 http://ppa.launchpad.net/c2d4u.team/c2d4u4.0+/ubuntu focal/main Sources [2,386 kB]\n",
            "Get:19 http://security.ubuntu.com/ubuntu focal-security/main amd64 Packages [2,496 kB]\n",
            "Get:20 http://archive.ubuntu.com/ubuntu focal-updates/universe amd64 Packages [1,297 kB]\n",
            "Get:21 http://ppa.launchpad.net/c2d4u.team/c2d4u4.0+/ubuntu focal/main amd64 Packages [1,130 kB]\n",
            "Fetched 11.7 MB in 7s (1,801 kB/s)\n",
            "Reading package lists... Done\n"
          ]
        }
      ],
      "source": [
        "import os\n",
        "# Find the latest version of spark 3.2 from http://www.apache.org/dist/spark/ and enter as the spark version\n",
        "# For example:\n",
        "# spark_version = 'spark-3.2.3'\n",
        "spark_version = 'spark-3.2.3'\n",
        "os.environ['SPARK_VERSION']=spark_version\n",
        "\n",
        "# Install Spark and Java\n",
        "!apt-get update\n",
        "!apt-get install openjdk-11-jdk-headless -qq > /dev/null\n",
        "!wget -q http://www.apache.org/dist/spark/$SPARK_VERSION/$SPARK_VERSION-bin-hadoop2.7.tgz\n",
        "!tar xf $SPARK_VERSION-bin-hadoop2.7.tgz\n",
        "!pip install -q findspark\n",
        "\n",
        "# Set Environment Variables\n",
        "import os\n",
        "os.environ[\"JAVA_HOME\"] = \"/usr/lib/jvm/java-11-openjdk-amd64\"\n",
        "os.environ[\"SPARK_HOME\"] = f\"/content/{spark_version}-bin-hadoop2.7\"\n",
        "\n",
        "# Start a SparkSession\n",
        "import findspark\n",
        "findspark.init()"
      ]
    },
    {
      "cell_type": "code",
      "source": [
        "# Download the Postgres driver that will allow Spark to interact with Postgres.\n",
        "!wget https://jdbc.postgresql.org/download/postgresql-42.2.16.jar"
      ],
      "metadata": {
        "colab": {
          "base_uri": "https://localhost:8080/"
        },
        "id": "jEAU0PO8RAS6",
        "outputId": "018833ed-d05e-4e9d-e79b-c7a0bc3681d3"
      },
      "execution_count": null,
      "outputs": [
        {
          "output_type": "stream",
          "name": "stdout",
          "text": [
            "--2023-02-20 23:59:46--  https://jdbc.postgresql.org/download/postgresql-42.2.16.jar\n",
            "Resolving jdbc.postgresql.org (jdbc.postgresql.org)... 72.32.157.228, 2001:4800:3e1:1::228\n",
            "Connecting to jdbc.postgresql.org (jdbc.postgresql.org)|72.32.157.228|:443... connected.\n",
            "HTTP request sent, awaiting response... 200 OK\n",
            "Length: 1002883 (979K) [application/java-archive]\n",
            "Saving to: ‘postgresql-42.2.16.jar’\n",
            "\n",
            "postgresql-42.2.16. 100%[===================>] 979.38K  1.15MB/s    in 0.8s    \n",
            "\n",
            "2023-02-20 23:59:48 (1.15 MB/s) - ‘postgresql-42.2.16.jar’ saved [1002883/1002883]\n",
            "\n"
          ]
        }
      ]
    },
    {
      "cell_type": "code",
      "source": [
        "from pyspark.sql import SparkSession\n",
        "spark = SparkSession.builder.appName(\"M17-Amazon-Challenge\").config(\"spark.driver.extraClassPath\",\"/content/postgresql-42.2.16.jar\").getOrCreate()"
      ],
      "metadata": {
        "id": "eDE1l8xIRBJA"
      },
      "execution_count": null,
      "outputs": []
    },
    {
      "cell_type": "code",
      "source": [
        "from pyspark import SparkFiles\n",
        "url = \"https://s3.amazonaws.com/amazon-reviews-pds/tsv/amazon_reviews_us_Sports_v1_00.tsv.gz\"\n",
        "spark.sparkContext.addFile(url)\n",
        "df = spark.read.option(\"encoding\", \"UTF-8\").csv(SparkFiles.get(\"\"), sep=\"\\t\", header=True, inferSchema=True)\n",
        "df.show()"
      ],
      "metadata": {
        "colab": {
          "base_uri": "https://localhost:8080/"
        },
        "id": "jLgBVfulRDba",
        "outputId": "5a354de3-0a8a-445e-a1a1-1c70c10ac59d"
      },
      "execution_count": null,
      "outputs": [
        {
          "output_type": "stream",
          "name": "stdout",
          "text": [
            "+-----------+-----------+--------------+----------+--------------+--------------------+----------------+-----------+-------------+-----------+----+-----------------+--------------------+--------------------+-----------+\n",
            "|marketplace|customer_id|     review_id|product_id|product_parent|       product_title|product_category|star_rating|helpful_votes|total_votes|vine|verified_purchase|     review_headline|         review_body|review_date|\n",
            "+-----------+-----------+--------------+----------+--------------+--------------------+----------------+-----------+-------------+-----------+----+-----------------+--------------------+--------------------+-----------+\n",
            "|         US|   48945260|R1WBPB8MDCCN8F|B012P7UPSM|     409940130|Chicago Blackhawk...|          Sports|          5|            0|          0|   N|                N|   LOVE IT. 6 stars!|Bought this last ...| 2015-08-31|\n",
            "|         US|    5782091|R32M0YEWV77XG8|B001GQ3VHG|     657746679|Copag Poker Size ...|          Sports|          5|            1|          1|   N|                Y|       Shipped fast.|These are the bes...| 2015-08-31|\n",
            "|         US|   45813853| RR8V7WR27NXJ5|B008VS8M58|     962442336|Baoer 223 5.56x45...|          Sports|          1|            0|          0|   N|                Y|Good idea if it w...|It looks good, th...| 2015-08-31|\n",
            "|         US|    1593730|R1MHO5V9Z932AY|B005F06F4U|      74305227|All Terrain Tackl...|          Sports|          5|            0|          0|   N|                Y|          Five Stars|           Great jig| 2015-08-31|\n",
            "|         US|   29605511|R16PD71086BD2V|B010T4IE2C|     787185588|Swim Cap - 3 Pack...|          Sports|          5|            0|          1|   N|                N|Great quality sil...|I love swimming i...| 2015-08-31|\n",
            "|         US|   11112959|R1Z8IFGWTRWXT6|B004RKJGLS|      94127483|adidas Men's Spor...|          Sports|          3|            0|          0|   N|                Y|Love everything a...|Love everything a...| 2015-08-31|\n",
            "|         US|     108031|R3AUMSHAW73HWN|B005V3DCBU|     526977496|Nike Men's Perfor...|          Sports|          4|            2|          3|   N|                N|          Four Stars|not the best sock...| 2015-08-31|\n",
            "|         US|   13981540|R2KWDWFOHGX6FL|B00MHT9WN8|      26521265|Green Bay Packers...|          Sports|          5|            0|          0|   N|                Y|          Five Stars|             Love it| 2015-08-31|\n",
            "|         US|   37993909|R3H9543FWBWFBU|B001CSIRQ8|     652431165|Isokinetics Inc. ...|          Sports|          5|            1|          1|   N|                Y|can't wait to use it|Unfortunately I h...| 2015-08-31|\n",
            "|         US|   26040213| RUANXOQ9W3OU5|B001KZ3NOO|     635861713|Aottop Quality El...|          Sports|          5|            0|          0|   N|                Y|great product, ac...|fast shipping , g...| 2015-08-31|\n",
            "|         US|   34657602|R31673RTGEZSW7|B00005RCQS|      72099763|Everlast 2'x6' Fo...|          Sports|          5|            2|          2|   N|                Y|this mat is a pre...|If you have a ter...| 2015-08-31|\n",
            "|         US|   14346192|R22OQLFSH42RCM|B00FA7RWVI|     757354022|OGIO Men's Shredd...|          Sports|          5|            1|          1|   N|                Y|  Versatile Golf Bag|Love this golf ba...| 2015-08-31|\n",
            "|         US|   38782687|R12LEL4F3TSZUJ|B000MMH2HU|     272402599|Blue Sea Systems ...|          Sports|          5|            2|          2|   N|                Y|Great AC Main Bre...|Perfect mounting ...| 2015-08-31|\n",
            "|         US|   27138575|R2L9XWD03072NI|B00WJOATDS|     375070208|Zengi AR15 45 Deg...|          Sports|          5|            1|          2|   N|                Y|   Nice, some quirks|For the cost you ...| 2015-08-31|\n",
            "|         US|   11838771|R2K0U91HIACANO|B00BOM2JNY|     639666785|Black Mountain Pr...|          Sports|          5|            0|          0|   N|                N|55 cm - Good qual...|The ball is very ...| 2015-08-31|\n",
            "|         US|     535800|R29SP6MBT7MXG7|B00OD5GAFM|      38715442|Trijicon VCOG 1-6...|          Sports|          4|            3|          3|   N|                Y|    Very nice scope.|Very nice scope.....| 2015-08-31|\n",
            "|         US|   23156579|R31XREAAMATEPY|B00CAHDC1K|      57088652|Naruto Headband f...|          Sports|          5|            0|          0|   N|                Y|was for my son an...|           This item| 2015-08-31|\n",
            "|         US|   48107879|R2116AVB87SO38|B004NLHXLG|     114125984|Under Armour Men'...|          Sports|          5|            0|          0|   N|                Y|          Five Stars|greatest socks i ...| 2015-08-31|\n",
            "|         US|   27260960|R3RDVBB6O0X3HW|B00L7OANWI|     883962979|Yes4All Deep Tiss...|          Sports|          5|            0|          0|   N|                Y|          Five Stars|Perfect for home ...| 2015-08-31|\n",
            "|         US|   39537314|R3LW5T149LKKQM|B0085PPSIQ|     691479969|Lansky PS-MED01 B...|          Sports|          4|            0|          0|   N|                Y|A bit heavy for p...|Very good product...| 2015-08-31|\n",
            "+-----------+-----------+--------------+----------+--------------+--------------------+----------------+-----------+-------------+-----------+----+-----------------+--------------------+--------------------+-----------+\n",
            "only showing top 20 rows\n",
            "\n"
          ]
        }
      ]
    },
    {
      "cell_type": "code",
      "source": [
        "# Create the vine_table. DataFrame\n",
        "vine_df = df.select(['review_id', 'star_rating', 'helpful_votes', 'total_votes', 'vine', 'verified_purchase'])\n",
        "vine_df.show(20)"
      ],
      "metadata": {
        "colab": {
          "base_uri": "https://localhost:8080/"
        },
        "id": "hGPsbBlhRIzs",
        "outputId": "b89b46c2-0b87-452a-fc66-e9c43b96a447"
      },
      "execution_count": null,
      "outputs": [
        {
          "output_type": "stream",
          "name": "stdout",
          "text": [
            "+--------------+-----------+-------------+-----------+----+-----------------+\n",
            "|     review_id|star_rating|helpful_votes|total_votes|vine|verified_purchase|\n",
            "+--------------+-----------+-------------+-----------+----+-----------------+\n",
            "|R1WBPB8MDCCN8F|          5|            0|          0|   N|                N|\n",
            "|R32M0YEWV77XG8|          5|            1|          1|   N|                Y|\n",
            "| RR8V7WR27NXJ5|          1|            0|          0|   N|                Y|\n",
            "|R1MHO5V9Z932AY|          5|            0|          0|   N|                Y|\n",
            "|R16PD71086BD2V|          5|            0|          1|   N|                N|\n",
            "|R1Z8IFGWTRWXT6|          3|            0|          0|   N|                Y|\n",
            "|R3AUMSHAW73HWN|          4|            2|          3|   N|                N|\n",
            "|R2KWDWFOHGX6FL|          5|            0|          0|   N|                Y|\n",
            "|R3H9543FWBWFBU|          5|            1|          1|   N|                Y|\n",
            "| RUANXOQ9W3OU5|          5|            0|          0|   N|                Y|\n",
            "|R31673RTGEZSW7|          5|            2|          2|   N|                Y|\n",
            "|R22OQLFSH42RCM|          5|            1|          1|   N|                Y|\n",
            "|R12LEL4F3TSZUJ|          5|            2|          2|   N|                Y|\n",
            "|R2L9XWD03072NI|          5|            1|          2|   N|                Y|\n",
            "|R2K0U91HIACANO|          5|            0|          0|   N|                N|\n",
            "|R29SP6MBT7MXG7|          4|            3|          3|   N|                Y|\n",
            "|R31XREAAMATEPY|          5|            0|          0|   N|                Y|\n",
            "|R2116AVB87SO38|          5|            0|          0|   N|                Y|\n",
            "|R3RDVBB6O0X3HW|          5|            0|          0|   N|                Y|\n",
            "|R3LW5T149LKKQM|          4|            0|          0|   N|                Y|\n",
            "+--------------+-----------+-------------+-----------+----+-----------------+\n",
            "only showing top 20 rows\n",
            "\n"
          ]
        }
      ]
    },
    {
      "cell_type": "code",
      "source": [
        "# Filter the data and create a new DataFrame or table to retrieve all the rows where the total_votes count is equal to or greater than 20\n",
        "# to pick reviews that are more likely to be helpful and to avoid having division by zero errors later on.\n",
        "twenty_plus_votes_df = vine_df.filter(\"total_votes>=20\")\n",
        "twenty_plus_votes_df.show(20)"
      ],
      "metadata": {
        "colab": {
          "base_uri": "https://localhost:8080/"
        },
        "id": "lisqXyUDSaPL",
        "outputId": "0bc02d14-f212-4049-bcac-68bbf6ad1202"
      },
      "execution_count": null,
      "outputs": [
        {
          "output_type": "stream",
          "name": "stdout",
          "text": [
            "+--------------+-----------+-------------+-----------+----+-----------------+\n",
            "|     review_id|star_rating|helpful_votes|total_votes|vine|verified_purchase|\n",
            "+--------------+-----------+-------------+-----------+----+-----------------+\n",
            "|R1B4753QMTD8ON|          5|           32|         32|   N|                N|\n",
            "|R28BVHOEL6GCHZ|          5|           21|         21|   N|                Y|\n",
            "|R27IB4BRKO71I0|          2|           16|         20|   N|                Y|\n",
            "| RJ86OW12Y4NRL|          5|          124|        128|   N|                Y|\n",
            "|R3KRABOWCH6ZE4|          1|           48|         65|   N|                Y|\n",
            "|R1OAKARA30DIWX|          4|           83|         89|   N|                Y|\n",
            "|R36LSV4WQ4VB1K|          5|           17|         22|   N|                N|\n",
            "|R18BTOE5UGN7UA|          5|           26|         28|   N|                Y|\n",
            "|R1DXLGDSK2WMLD|          4|           22|         22|   N|                N|\n",
            "| RZG2OHQ12YYZI|          5|           30|         31|   N|                Y|\n",
            "|R1ZPBQCT4DYE4Z|          1|           45|         51|   N|                Y|\n",
            "|R16KLPJUNC9GS7|          5|           20|         21|   N|                Y|\n",
            "|R3Q0414UJO4BDO|          1|           23|         28|   N|                Y|\n",
            "| RDHDT1Z4R8IOF|          1|           18|         20|   N|                Y|\n",
            "|R10BO7KWZNBGL1|          4|           23|         24|   N|                Y|\n",
            "|R1H6DQ1UXL6K8U|          5|           86|         97|   N|                N|\n",
            "|R32OMS1LSDRCOB|          4|           27|         31|   Y|                N|\n",
            "|R1ABJ5P5XAZ9AW|          5|          174|        187|   N|                N|\n",
            "|R2RRFZ2YFSJ2OF|          5|           27|         27|   N|                Y|\n",
            "|R19G3LWRFBHDX3|          1|            4|         42|   N|                Y|\n",
            "+--------------+-----------+-------------+-----------+----+-----------------+\n",
            "only showing top 20 rows\n",
            "\n"
          ]
        }
      ]
    },
    {
      "cell_type": "code",
      "source": [
        "from pyspark.sql.functions import col\n",
        "helpful_votes_df = twenty_plus_votes_df.filter((col('helpful_votes')/col('total_votes'))>=0.5)\n",
        "helpful_votes_df.show(20)"
      ],
      "metadata": {
        "colab": {
          "base_uri": "https://localhost:8080/"
        },
        "id": "MopDAB7dTQX4",
        "outputId": "0ceb8c1a-0ee7-423d-f8cb-25a9947341c2"
      },
      "execution_count": null,
      "outputs": [
        {
          "output_type": "stream",
          "name": "stdout",
          "text": [
            "+--------------+-----------+-------------+-----------+----+-----------------+\n",
            "|     review_id|star_rating|helpful_votes|total_votes|vine|verified_purchase|\n",
            "+--------------+-----------+-------------+-----------+----+-----------------+\n",
            "|R1B4753QMTD8ON|          5|           32|         32|   N|                N|\n",
            "|R28BVHOEL6GCHZ|          5|           21|         21|   N|                Y|\n",
            "|R27IB4BRKO71I0|          2|           16|         20|   N|                Y|\n",
            "| RJ86OW12Y4NRL|          5|          124|        128|   N|                Y|\n",
            "|R3KRABOWCH6ZE4|          1|           48|         65|   N|                Y|\n",
            "|R1OAKARA30DIWX|          4|           83|         89|   N|                Y|\n",
            "|R36LSV4WQ4VB1K|          5|           17|         22|   N|                N|\n",
            "|R18BTOE5UGN7UA|          5|           26|         28|   N|                Y|\n",
            "|R1DXLGDSK2WMLD|          4|           22|         22|   N|                N|\n",
            "| RZG2OHQ12YYZI|          5|           30|         31|   N|                Y|\n",
            "|R1ZPBQCT4DYE4Z|          1|           45|         51|   N|                Y|\n",
            "|R16KLPJUNC9GS7|          5|           20|         21|   N|                Y|\n",
            "|R3Q0414UJO4BDO|          1|           23|         28|   N|                Y|\n",
            "| RDHDT1Z4R8IOF|          1|           18|         20|   N|                Y|\n",
            "|R10BO7KWZNBGL1|          4|           23|         24|   N|                Y|\n",
            "|R1H6DQ1UXL6K8U|          5|           86|         97|   N|                N|\n",
            "|R32OMS1LSDRCOB|          4|           27|         31|   Y|                N|\n",
            "|R1ABJ5P5XAZ9AW|          5|          174|        187|   N|                N|\n",
            "|R2RRFZ2YFSJ2OF|          5|           27|         27|   N|                Y|\n",
            "| RJ0T139KDORXP|          5|           23|         24|   N|                Y|\n",
            "+--------------+-----------+-------------+-----------+----+-----------------+\n",
            "only showing top 20 rows\n",
            "\n"
          ]
        }
      ]
    },
    {
      "cell_type": "code",
      "source": [
        "paid_df = helpful_votes_df.filter(col('vine') == 'Y')\n",
        "paid_df.show(20)"
      ],
      "metadata": {
        "colab": {
          "base_uri": "https://localhost:8080/"
        },
        "id": "pKmfsGfsXbA-",
        "outputId": "1830900a-6430-4c93-979d-ef0d2d81bd1f"
      },
      "execution_count": null,
      "outputs": [
        {
          "output_type": "stream",
          "name": "stdout",
          "text": [
            "+--------------+-----------+-------------+-----------+----+-----------------+\n",
            "|     review_id|star_rating|helpful_votes|total_votes|vine|verified_purchase|\n",
            "+--------------+-----------+-------------+-----------+----+-----------------+\n",
            "|R32OMS1LSDRCOB|          4|           27|         31|   Y|                N|\n",
            "|R2IPKK4I0XRCFR|          4|           16|         21|   Y|                N|\n",
            "| RXYYJ8SGI9IX6|          5|           36|         41|   Y|                N|\n",
            "|R1SAUBFC7T6JHC|          5|           73|         75|   Y|                N|\n",
            "|R329HVJKKHWSG3|          5|           59|         59|   Y|                N|\n",
            "| RZL21K50M52KW|          5|           22|         22|   Y|                N|\n",
            "|R24RC5J2D92SBE|          5|           19|         20|   Y|                N|\n",
            "|R1803HITBY7Y08|          4|           92|        104|   Y|                N|\n",
            "|R1888B8Z6QWYZ4|          4|           18|         25|   Y|                N|\n",
            "|R1S538NK2I5PRL|          5|           21|         22|   Y|                N|\n",
            "| RZDTBIS1289HJ|          5|           26|         28|   Y|                N|\n",
            "|R1MWLO2PFODMQ3|          5|           31|         32|   Y|                N|\n",
            "|R3O6EMC0ISQY92|          4|           25|         27|   Y|                N|\n",
            "|R1OGJY9TSNXXX3|          5|           19|         22|   Y|                N|\n",
            "| R3AOPWQNKJ6VE|          5|           25|         29|   Y|                N|\n",
            "|R1XJFRM9ANTVSZ|          4|           44|         46|   Y|                N|\n",
            "|R1VDF41NJMDGBT|          2|           23|         29|   Y|                N|\n",
            "|R2C0QDBA4NEEKD|          3|          173|        200|   Y|                N|\n",
            "|R3TUMV5DZL433H|          4|           29|         38|   Y|                N|\n",
            "| RVU1EA54INF9T|          5|           19|         21|   Y|                N|\n",
            "+--------------+-----------+-------------+-----------+----+-----------------+\n",
            "only showing top 20 rows\n",
            "\n"
          ]
        }
      ]
    },
    {
      "cell_type": "code",
      "source": [
        "unpaid_df = helpful_votes_df.filter(col('vine') == 'N')\n",
        "unpaid_df.show(20)"
      ],
      "metadata": {
        "id": "TlJ-Vx_tTsYD",
        "colab": {
          "base_uri": "https://localhost:8080/"
        },
        "outputId": "879ce751-98de-4e8b-a418-03f5362571c4"
      },
      "execution_count": null,
      "outputs": [
        {
          "output_type": "stream",
          "name": "stdout",
          "text": [
            "+--------------+-----------+-------------+-----------+----+-----------------+\n",
            "|     review_id|star_rating|helpful_votes|total_votes|vine|verified_purchase|\n",
            "+--------------+-----------+-------------+-----------+----+-----------------+\n",
            "|R1B4753QMTD8ON|          5|           32|         32|   N|                N|\n",
            "|R28BVHOEL6GCHZ|          5|           21|         21|   N|                Y|\n",
            "|R27IB4BRKO71I0|          2|           16|         20|   N|                Y|\n",
            "| RJ86OW12Y4NRL|          5|          124|        128|   N|                Y|\n",
            "|R3KRABOWCH6ZE4|          1|           48|         65|   N|                Y|\n",
            "|R1OAKARA30DIWX|          4|           83|         89|   N|                Y|\n",
            "|R36LSV4WQ4VB1K|          5|           17|         22|   N|                N|\n",
            "|R18BTOE5UGN7UA|          5|           26|         28|   N|                Y|\n",
            "|R1DXLGDSK2WMLD|          4|           22|         22|   N|                N|\n",
            "| RZG2OHQ12YYZI|          5|           30|         31|   N|                Y|\n",
            "|R1ZPBQCT4DYE4Z|          1|           45|         51|   N|                Y|\n",
            "|R16KLPJUNC9GS7|          5|           20|         21|   N|                Y|\n",
            "|R3Q0414UJO4BDO|          1|           23|         28|   N|                Y|\n",
            "| RDHDT1Z4R8IOF|          1|           18|         20|   N|                Y|\n",
            "|R10BO7KWZNBGL1|          4|           23|         24|   N|                Y|\n",
            "|R1H6DQ1UXL6K8U|          5|           86|         97|   N|                N|\n",
            "|R1ABJ5P5XAZ9AW|          5|          174|        187|   N|                N|\n",
            "|R2RRFZ2YFSJ2OF|          5|           27|         27|   N|                Y|\n",
            "| RJ0T139KDORXP|          5|           23|         24|   N|                Y|\n",
            "|R30MVK7HP2DW91|          5|           84|        124|   N|                Y|\n",
            "+--------------+-----------+-------------+-----------+----+-----------------+\n",
            "only showing top 20 rows\n",
            "\n"
          ]
        }
      ]
    },
    {
      "cell_type": "code",
      "source": [
        " from pyspark.sql.functions import count\n",
        "\n",
        " # Determine the total number of reviews for paid\n",
        " paid_df.select(count(paid_df.review_id)).show()"
      ],
      "metadata": {
        "id": "AM_VQUxjXvh0",
        "colab": {
          "base_uri": "https://localhost:8080/"
        },
        "outputId": "4f51295c-9a8e-447c-972b-ccb86d21faa5"
      },
      "execution_count": 19,
      "outputs": [
        {
          "output_type": "stream",
          "name": "stdout",
          "text": [
            "+----------------+\n",
            "|count(review_id)|\n",
            "+----------------+\n",
            "|             334|\n",
            "+----------------+\n",
            "\n"
          ]
        }
      ]
    },
    {
      "cell_type": "code",
      "source": [
        "# Determine the number of 5-star reviews for paid\n",
        "five_star_df = paid_df.filter('star_rating==5')\n",
        "five_star_df.select(count(paid_df.review_id)).show()"
      ],
      "metadata": {
        "id": "VUg5cSPMX0B2",
        "colab": {
          "base_uri": "https://localhost:8080/"
        },
        "outputId": "c5a551a0-9f2a-4795-d656-b307f5f1f521"
      },
      "execution_count": 21,
      "outputs": [
        {
          "output_type": "stream",
          "name": "stdout",
          "text": [
            "+----------------+\n",
            "|count(review_id)|\n",
            "+----------------+\n",
            "|             139|\n",
            "+----------------+\n",
            "\n"
          ]
        }
      ]
    },
    {
      "cell_type": "code",
      "source": [
        "# Determine the percentage of 5-star reviews for paid\n",
        "five_star_percentage_paid = (139/334) * 100\n",
        "print(five_star_percentage_paid)"
      ],
      "metadata": {
        "id": "aCij-fYYX2CZ",
        "colab": {
          "base_uri": "https://localhost:8080/"
        },
        "outputId": "a0ddc148-d037-4f7e-c4a0-7e0a96898e09"
      },
      "execution_count": 24,
      "outputs": [
        {
          "output_type": "stream",
          "name": "stdout",
          "text": [
            "41.61676646706587\n"
          ]
        }
      ]
    },
    {
      "cell_type": "code",
      "source": [
        "# Determine the total number of reviews for unpaid\n",
        "unpaid_df.select(count(unpaid_df.review_id)).show()"
      ],
      "metadata": {
        "id": "duj54mmsX_Cs",
        "colab": {
          "base_uri": "https://localhost:8080/"
        },
        "outputId": "2d9c283f-194a-4b0d-d6a2-da3a13bf3c71"
      },
      "execution_count": 26,
      "outputs": [
        {
          "metadata": {
            "tags": null
          },
          "name": "stdout",
          "output_type": "stream",
          "text": [
            "+----------------+\n",
            "|count(review_id)|\n",
            "+----------------+\n",
            "|           61614|\n",
            "+----------------+\n",
            "\n"
          ]
        }
      ]
    },
    {
      "cell_type": "code",
      "source": [
        "# Determine the number of 5-star reviews for unpaid\n",
        "five_star_unpaid_df = unpaid_df.filter('star_rating==5')\n",
        "five_star_unpaid_df.select(count(unpaid_df.review_id)).show()"
      ],
      "metadata": {
        "id": "CIe4uNj_X_U_",
        "colab": {
          "base_uri": "https://localhost:8080/"
        },
        "outputId": "affcbbed-2aac-4bf8-cd3f-649b5a62f749"
      },
      "execution_count": 27,
      "outputs": [
        {
          "output_type": "stream",
          "name": "stdout",
          "text": [
            "+----------------+\n",
            "|count(review_id)|\n",
            "+----------------+\n",
            "|           32665|\n",
            "+----------------+\n",
            "\n"
          ]
        }
      ]
    },
    {
      "cell_type": "code",
      "source": [
        "# Determine the percentage of 5-star reviews for unpaid\n",
        "five_star_percentage_unpaid = (32665/61614) * 100\n",
        "print(five_star_percentage_unpaid)"
      ],
      "metadata": {
        "id": "dqO8OdI5X_kI",
        "colab": {
          "base_uri": "https://localhost:8080/"
        },
        "outputId": "6c022820-93f9-4432-a1ab-5533d14c65fc"
      },
      "execution_count": 28,
      "outputs": [
        {
          "output_type": "stream",
          "name": "stdout",
          "text": [
            "53.01554841432142\n"
          ]
        }
      ]
    }
  ]
}